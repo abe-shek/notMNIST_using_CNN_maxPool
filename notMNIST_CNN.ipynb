{
 "cells": [
  {
   "cell_type": "code",
   "execution_count": 1,
   "metadata": {},
   "outputs": [],
   "source": [
    "import numpy as np\n",
    "from __future__ import print_function\n",
    "import tensorflow as tf\n",
    "from six.moves import cPickle as pickle\n",
    "from six.moves import range"
   ]
  },
  {
   "cell_type": "code",
   "execution_count": 2,
   "metadata": {},
   "outputs": [
    {
     "name": "stdout",
     "output_type": "stream",
     "text": [
      "Training set (200000, 28, 28) (200000,)\n",
      "Validation set (10000, 28, 28) (10000,)\n",
      "Test set (10000, 28, 28) (10000,)\n"
     ]
    }
   ],
   "source": [
    "pickle_file = 'notMNIST.pickle'\n",
    "\n",
    "with open(pickle_file, 'rb') as f:\n",
    "  save = pickle.load(f)\n",
    "  train_dataset = save['train_dataset']\n",
    "  train_labels = save['train_labels']\n",
    "  valid_dataset = save['valid_dataset']\n",
    "  valid_labels = save['valid_labels']\n",
    "  test_dataset = save['test_dataset']\n",
    "  test_labels = save['test_labels']\n",
    "  del save  # hint to help gc free up memory\n",
    "  print('Training set', train_dataset.shape, train_labels.shape)\n",
    "  print('Validation set', valid_dataset.shape, valid_labels.shape)\n",
    "  print('Test set', test_dataset.shape, test_labels.shape)"
   ]
  },
  {
   "cell_type": "code",
   "execution_count": 3,
   "metadata": {},
   "outputs": [
    {
     "name": "stdout",
     "output_type": "stream",
     "text": [
      "Training set (200000, 28, 28, 1) (200000, 10)\n",
      "Validation set (10000, 28, 28, 1) (10000, 10)\n",
      "Test set (10000, 28, 28, 1) (10000, 10)\n"
     ]
    }
   ],
   "source": [
    "image_size = 28\n",
    "num_labels = 10\n",
    "num_channels = 1\n",
    "\n",
    "def reformat(dataset, labels):\n",
    "  dataset = dataset.reshape(\n",
    "    (-1, image_size, image_size, num_channels)).astype(np.float32)\n",
    "  labels = (np.arange(num_labels) == labels[:,None]).astype(np.float32)\n",
    "  return dataset, labels\n",
    "train_dataset, train_labels = reformat(train_dataset, train_labels)\n",
    "valid_dataset, valid_labels = reformat(valid_dataset, valid_labels)\n",
    "test_dataset, test_labels = reformat(test_dataset, test_labels)\n",
    "print('Training set', train_dataset.shape, train_labels.shape)\n",
    "print('Validation set', valid_dataset.shape, valid_labels.shape)\n",
    "print('Test set', test_dataset.shape, test_labels.shape)"
   ]
  },
  {
   "cell_type": "code",
   "execution_count": 23,
   "metadata": {},
   "outputs": [],
   "source": [
    "def accuracy(predictions, labels):\n",
    "  return (100.0 * np.sum(np.argmax(predictions, 1) == np.argmax(labels, 1))\n",
    "          / predictions.shape[0])"
   ]
  },
  {
   "cell_type": "code",
   "execution_count": 59,
   "metadata": {},
   "outputs": [],
   "source": [
    "batch_size = 16\n",
    "kernel_size = 5\n",
    "num_hidden_units = 1024\n",
    "depth = 64\n",
    "\n",
    "\n",
    "graph = tf.Graph()\n",
    "with graph.as_default():\n",
    "    training_data = tf.placeholder(np.float32, [batch_size,image_size,image_size,num_channels])\n",
    "    training_labels = tf.placeholder(np.float32, [batch_size,num_labels])\n",
    "    validation_data = tf.constant(valid_dataset)\n",
    "    validation_labels = tf.constant(valid_labels)\n",
    "    testing_data = tf.constant(test_dataset)\n",
    "    testing_labels = tf.constant(test_labels)\n",
    "    \n",
    "    weights_10 = tf.Variable(tf.truncated_normal([kernel_size, kernel_size,num_channels,depth//2],stddev=0.1))\n",
    "    biases_0 = tf.Variable(tf.constant(1.0, shape=[depth//2]))\n",
    "    \n",
    "    weights_21 = tf.Variable(tf.truncated_normal([kernel_size, kernel_size,depth//2,depth],stddev=0.1))\n",
    "    biases_1 = tf.Variable(tf.constant(1.0, shape=[depth]))\n",
    "    \n",
    "    weights_32 = tf.Variable(tf.truncated_normal([image_size//4 * image_size//4 * depth,num_hidden_units],stddev=0.1))\n",
    "    biases_2 = tf.Variable(tf.constant(1.0, shape=[num_hidden_units]))\n",
    "    \n",
    "    weights_43 = tf.Variable(tf.truncated_normal([num_hidden_units,num_labels]))\n",
    "    biases_3 = tf.Variable(tf.constant(1.0, shape =[num_labels]))\n",
    "    \n",
    "    def model(data, isTrain):\n",
    "        conv2d_1 = tf.nn.relu(tf.nn.conv2d(data,weights_10,[1,1,1,1],\"SAME\")+biases_0)\n",
    "        conv2d_1 = tf.nn.max_pool(conv2d_1, [1,2,2,1], [1,2,2,1], \"SAME\")\n",
    "        conv2d_2 = tf.nn.relu(tf.nn.conv2d(conv2d_1,weights_21,[1,1,1,1],\"SAME\")+biases_1)\n",
    "        conv2d_2 = tf.nn.max_pool(conv2d_2, [1,2,2,1], [1,2,2,1], \"SAME\")\n",
    "        shape = conv2d_2.get_shape().as_list()\n",
    "        reshape = tf.reshape(conv2d_2, [shape[0],shape[1]*shape[2]*shape[3]])\n",
    "        hidden_layer = tf.nn.relu(tf.matmul(reshape,weights_32)+biases_2)\n",
    "        if isTrain:\n",
    "            hidden_layer = tf.nn.dropout(hidden_layer,keep_prob=0.5)\n",
    "        output_layer = tf.matmul(hidden_layer,weights_43)+biases_3\n",
    "        return output_layer\n",
    "    \n",
    "    logits = model(training_data,False)\n",
    "    loss = tf.reduce_mean(tf.nn.softmax_cross_entropy_with_logits_v2(logits=logits,labels=training_labels))\n",
    "    \n",
    "    optimizer = tf.train.GradientDescentOptimizer(0.05).minimize(loss)\n",
    "    \n",
    "    training_predictions = tf.nn.softmax(logits)\n",
    "    validation_predictions = tf.nn.softmax(model(validation_data,False))\n",
    "    testing_predictions = tf.nn.softmax(model(testing_data,False))\n",
    "    \n",
    "        "
   ]
  },
  {
   "cell_type": "code",
   "execution_count": null,
   "metadata": {},
   "outputs": [
    {
     "name": "stdout",
     "output_type": "stream",
     "text": [
      "Initialized\n",
      "Loss at training step 0: 327.814850\n",
      "Training accuracy: 12.5%\n",
      "Validation accuracy: 10.0%\n",
      "\n",
      "Loss at training step 100: nan\n",
      "Training accuracy: 0.0%\n",
      "Validation accuracy: 10.0%\n",
      "\n"
     ]
    }
   ],
   "source": [
    "num_steps = 1001\n",
    "with tf.Session(graph=graph) as session:\n",
    "    tf.global_variables_initializer().run()\n",
    "    print(\"Initialized\")\n",
    "    for step in range(num_steps):\n",
    "        offset = (step * batch_size) % (train_dataset.shape[0] - batch_size)\n",
    "        batch_training_data = train_dataset[offset:(offset+batch_size)]\n",
    "        batch_training_labels = train_labels[offset:(offset+batch_size)]\n",
    "        feed_dict = {training_data : batch_training_data, training_labels : batch_training_labels}\n",
    "        _,l,predictions = session.run([optimizer,loss,training_predictions],feed_dict=feed_dict)\n",
    "        if step % 100 ==0:\n",
    "            print(\"Loss at training step %d: %f\" % (step,l))\n",
    "            print(\"Training accuracy: %.1f%%\" % accuracy(predictions, batch_training_labels))\n",
    "            print(\"Validation accuracy: %.1f%%\\n\" % accuracy(validation_predictions.eval(),valid_labels))\n",
    "    print(\"Testing accuracy: %.1f%%\" % accuracy(testing_predictions.eval(),test_labels))"
   ]
  },
  {
   "cell_type": "code",
   "execution_count": null,
   "metadata": {},
   "outputs": [],
   "source": []
  }
 ],
 "metadata": {
  "kernelspec": {
   "display_name": "Python 3",
   "language": "python",
   "name": "python3"
  },
  "language_info": {
   "codemirror_mode": {
    "name": "ipython",
    "version": 3
   },
   "file_extension": ".py",
   "mimetype": "text/x-python",
   "name": "python",
   "nbconvert_exporter": "python",
   "pygments_lexer": "ipython3",
   "version": "3.6.4"
  }
 },
 "nbformat": 4,
 "nbformat_minor": 2
}
